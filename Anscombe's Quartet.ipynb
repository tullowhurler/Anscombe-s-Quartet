{
 "cells": [
  {
   "cell_type": "markdown",
   "metadata": {},
   "source": [
    "# An Investigation into the Anscombe's Quartet "
   ]
  },
  {
   "cell_type": "markdown",
   "metadata": {},
   "source": [
    "## Introduction \n",
    "\n",
    "The Anscombe’s Quartet was first published in 1973 by Francis J. Anscombe in a paper called \"Graphs in Statistical Analysis\". Anscombe released the paper to regale against the common textbooks of the day that were in his view indoctrinating statisticians with the view that “numerical calculations are exact, but graphs are rough\"(1). His ultimate goal was to highlight that just relying on summary statistics and numerical calculations was not best practice. Summary statistics is invaluable in being able to describe a vast, complex dataset using just a few key numbers(3). This gives statisticians something easy to optimize against and use as a barometer for further analysis. Anscombe wanted to demonstrate both the importance of graphing data before analyzing it and the effect of outliers on statistical properties (2).\n",
    "\n",
    "In order to present his viewpoint effectively Anscombe created a group of four datasets that appear to be similar when using typical summary statistics, yet tell four different stories when graphed (3). Each dataset contains the mean of the x values as 9.0, mean of y values as 7.5. They all have nearly identical variances, correlations, and regression lines (to at least two decimal places)(2). It is not known how Anscombe created his datasets. \n",
    "\n",
    "Another interesting feature of this dataset is how Anscombe deals with outliers in data analysis. An outlier is a figure that moves regression line away from the mainstream. Anscombe uses the outliers in his datasets to highlight how important visualising the dataset can be in developing a sensible statistical model (4). The Anscombe Quartet challenged the old statistical model of relying on summary statistics, creating more reliable and user friendly results through data visualisation. "
   ]
  },
  {
   "cell_type": "markdown",
   "metadata": {},
   "source": [
    "## References\n",
    "1. https://eagereyes.org/criticism/anscombes-quartet \n",
    "2. https://en.wikipedia.org/wiki/Anscombe%27s_quartet\n",
    "3. https://heapanalytics.com/blog/data-stories/anscombes-quartet-and-why-summary-statistics-dont-tell-the-whole-story\n",
    "4. https://www.quora.com/What-is-the-significance-of-Anscombes-quartet"
   ]
  },
  {
   "cell_type": "code",
   "execution_count": null,
   "metadata": {},
   "outputs": [],
   "source": []
  }
 ],
 "metadata": {
  "kernelspec": {
   "display_name": "Python 3",
   "language": "python",
   "name": "python3"
  },
  "language_info": {
   "codemirror_mode": {
    "name": "ipython",
    "version": 3
   },
   "file_extension": ".py",
   "mimetype": "text/x-python",
   "name": "python",
   "nbconvert_exporter": "python",
   "pygments_lexer": "ipython3",
   "version": "3.6.5"
  }
 },
 "nbformat": 4,
 "nbformat_minor": 2
}
