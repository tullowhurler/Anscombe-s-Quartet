{
 "cells": [
  {
   "cell_type": "markdown",
   "metadata": {},
   "source": [
    "# An Investigation into the Anscombe's Quartet "
   ]
  },
  {
   "cell_type": "markdown",
   "metadata": {},
   "source": [
    "## 1. Introduction \n",
    "\n",
    "The Anscombe’s Quartet was first published in 1973 by Francis J. Anscombe in a paper called \"Graphs in Statistical Analysis\". Anscombe released the paper to regale against the common textbooks of the day that were in his view indoctrinating statisticians with the view that “numerical calculations are exact, but graphs are rough\"(1). His ultimate goal was to highlight that just relying on summary statistics and numerical calculations was not best practice. Summary statistics is invaluable in being able to describe a vast, complex dataset using just a few key numbers(3). This gives statisticians something easy to optimize against and use as a barometer for further analysis. Anscombe wanted to demonstrate both the importance of graphing data before analyzing it and the effect of outliers on statistical properties (2).\n",
    "\n",
    "In order to present his viewpoint effectively Anscombe created a group of four datasets that appear to be similar when using typical summary statistics, yet tell four different stories when graphed (3). Each dataset contains the mean of the x values as 9.0, mean of y values as 7.5. They all have nearly identical variances, correlations, and regression lines (to at least two decimal places)(2). It is not known how Anscombe created his datasets. \n",
    "\n",
    "Another interesting feature of this dataset is how Anscombe deals with outliers in data analysis. An outlier is a figure that moves regression line away from the mainstream. Anscombe uses the outliers in his datasets to highlight how important visualising the dataset can be in developing a sensible statistical model (4). The Anscombe Quartet challenged the old statistical model of relying on summary statistics, creating more reliable and user friendly results through data visualisation. "
   ]
  },
  {
   "cell_type": "markdown",
   "metadata": {},
   "source": [
    "## 2. Plot the data set"
   ]
  },
  {
   "cell_type": "code",
   "execution_count": 15,
   "metadata": {},
   "outputs": [
    {
     "name": "stdout",
     "output_type": "stream",
     "text": [
      "   dataset     x      y\n",
      "0        I  10.0   8.04\n",
      "1        I   8.0   6.95\n",
      "2        I  13.0   7.58\n",
      "3        I   9.0   8.81\n",
      "4        I  11.0   8.33\n",
      "5        I  14.0   9.96\n",
      "6        I   6.0   7.24\n",
      "7        I   4.0   4.26\n",
      "8        I  12.0  10.84\n",
      "9        I   7.0   4.82\n",
      "10       I   5.0   5.68\n",
      "11      II  10.0   9.14\n",
      "12      II   8.0   8.14\n",
      "13      II  13.0   8.74\n",
      "14      II   9.0   8.77\n",
      "15      II  11.0   9.26\n",
      "16      II  14.0   8.10\n",
      "17      II   6.0   6.13\n",
      "18      II   4.0   3.10\n",
      "19      II  12.0   9.13\n",
      "20      II   7.0   7.26\n",
      "21      II   5.0   4.74\n",
      "22     III  10.0   7.46\n",
      "23     III   8.0   6.77\n",
      "24     III  13.0  12.74\n",
      "25     III   9.0   7.11\n",
      "26     III  11.0   7.81\n",
      "27     III  14.0   8.84\n",
      "28     III   6.0   6.08\n",
      "29     III   4.0   5.39\n",
      "30     III  12.0   8.15\n",
      "31     III   7.0   6.42\n",
      "32     III   5.0   5.73\n",
      "33      IV   8.0   6.58\n",
      "34      IV   8.0   5.76\n",
      "35      IV   8.0   7.71\n",
      "36      IV   8.0   8.84\n",
      "37      IV   8.0   8.47\n",
      "38      IV   8.0   7.04\n",
      "39      IV   8.0   5.25\n",
      "40      IV  19.0  12.50\n",
      "41      IV   8.0   5.56\n",
      "42      IV   8.0   7.91\n",
      "43      IV   8.0   6.89\n"
     ]
    }
   ],
   "source": [
    "# These are the important packages that I will import to plot the interesting aspects of this dataset\n",
    "\n",
    "import pandas as pd  # Data manipulation\n",
    "import matplotlib.pyplot as plt  # Plots\n",
    "import seaborn as sns  # Powerful plots\n",
    "from scipy import stats  # Linear regression\n",
    "import numpy as np  # Quick summary statistics\n",
    "\n",
    "\n",
    "# https://vknight.org/unpeudemath/mathematics/2016/10/29/anscombes-quartet-variability-and-ciw.html\n",
    "\n",
    "# Special command to print to the notebook, \n",
    "# https://stackoverflow.com/questions/19410042/how-to-make-ipython-notebook-matplotlib-plot-inline\n",
    "%matplotlib inline \n",
    "\n",
    "# First I will load the dataset \n",
    "# https://seaborn.pydata.org/examples/anscombes_quartet.html\n",
    "anscombe = sns.load_dataset(\"anscombe\")\n",
    "print (anscombe)\n",
    "\n"
   ]
  },
  {
   "cell_type": "markdown",
   "metadata": {},
   "source": [
    "## References\n",
    "1. https://eagereyes.org/criticism/anscombes-quartet \n",
    "2. https://en.wikipedia.org/wiki/Anscombe%27s_quartet\n",
    "3. https://heapanalytics.com/blog/data-stories/anscombes-quartet-and-why-summary-statistics-dont-tell-the-whole-story\n",
    "4. https://www.quora.com/What-is-the-significance-of-Anscombes-quartet\n",
    "5. https://vknight.org/unpeudemath/mathematics/2016/10/29/anscombes-quartet-variability-and-ciw.html\n",
    "6. https://seaborn.pydata.org/examples/anscombes_quartet.html\n",
    "7. https://stackoverflow.com/questions/19410042/how-to-make-ipython-notebook-matplotlib-plot-inline"
   ]
  },
  {
   "cell_type": "code",
   "execution_count": null,
   "metadata": {},
   "outputs": [],
   "source": []
  }
 ],
 "metadata": {
  "kernelspec": {
   "display_name": "Python 3",
   "language": "python",
   "name": "python3"
  },
  "language_info": {
   "codemirror_mode": {
    "name": "ipython",
    "version": 3
   },
   "file_extension": ".py",
   "mimetype": "text/x-python",
   "name": "python",
   "nbconvert_exporter": "python",
   "pygments_lexer": "ipython3",
   "version": "3.6.5"
  }
 },
 "nbformat": 4,
 "nbformat_minor": 2
}
